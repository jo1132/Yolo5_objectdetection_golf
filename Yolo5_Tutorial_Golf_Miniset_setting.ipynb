{
  "cells": [
    {
      "cell_type": "markdown",
      "metadata": {
        "id": "view-in-github",
        "colab_type": "text"
      },
      "source": [
        "<a href=\"https://colab.research.google.com/github/jo1132/Yolo5_objectdetection_golf/blob/master/Yolo5_Tutorial_Golf_Miniset_setting.ipynb\" target=\"_parent\"><img src=\"https://colab.research.google.com/assets/colab-badge.svg\" alt=\"Open In Colab\"/></a>"
      ]
    },
    {
      "cell_type": "markdown",
      "id": "b3d03cd9",
      "metadata": {
        "id": "b3d03cd9"
      },
      "source": [
        "# 라벨링 데이터 CSV 만들기"
      ]
    },
    {
      "cell_type": "code",
      "execution_count": 143,
      "id": "22f4c8e3",
      "metadata": {
        "colab": {
          "base_uri": "https://localhost:8080/"
        },
        "id": "22f4c8e3",
        "outputId": "4ee8605a-7248-452d-b81e-7bc086d4d26e"
      },
      "outputs": [
        {
          "output_type": "stream",
          "name": "stdout",
          "text": [
            "Drive already mounted at /content/drive; to attempt to forcibly remount, call drive.mount(\"/content/drive\", force_remount=True).\n"
          ]
        }
      ],
      "source": [
        "import os             # 파일 읽어오기, 리스트 불러오기\n",
        "import shutil         # 파일 복사하기\n",
        "import json           # JSON 읽기\n",
        "import pandas as pd   # DataFrame 만들기\n",
        "from google.colab import drive\n",
        "drive.mount('/content/drive')"
      ]
    },
    {
      "cell_type": "markdown",
      "id": "f1527ce3",
      "metadata": {
        "id": "f1527ce3"
      },
      "source": [
        "## 폴더안에 모든 Json파일경로 리스트로 가져오기"
      ]
    },
    {
      "cell_type": "code",
      "execution_count": null,
      "id": "6eb8447c",
      "metadata": {
        "colab": {
          "base_uri": "https://localhost:8080/"
        },
        "id": "6eb8447c",
        "outputId": "5adceed7-a3d2-42d4-8e8e-819bd17c679f"
      },
      "outputs": [
        {
          "output_type": "stream",
          "name": "stdout",
          "text": [
            "1709\n"
          ]
        }
      ],
      "source": [
        "# 시작 폴더 경로\n",
        "Base_Path = '/content/drive/MyDrive/Colab Notebooks/공부용/golf/2020-02-097.스포츠사람동작(골프)_sample'\n",
        "total_path_list = []\n",
        "\n",
        "def RecursiveJsonFinder(PATH):\n",
        "    file_list = os.listdir(PATH)\n",
        "    \n",
        "    for file in file_list:\n",
        "        file_path = PATH+'/'+file\n",
        "        if(os.path.isdir(file_path)):\n",
        "            RecursiveJsonFinder(file_path)\n",
        "        elif (os.path.splitext(file_path)[-1] == '.json'):\n",
        "            total_path_list.append(file_path)\n",
        "RecursiveJsonFinder(Base_Path)\n",
        "print(len(total_path_list))"
      ]
    },
    {
      "cell_type": "markdown",
      "id": "23867214",
      "metadata": {
        "id": "23867214"
      },
      "source": [
        "## Json파일경로로 Json정보 DataFrame만들고 저장하기"
      ]
    },
    {
      "cell_type": "markdown",
      "id": "5e229ad9",
      "metadata": {
        "id": "5e229ad9"
      },
      "source": [
        "### Categories 정리"
      ]
    },
    {
      "cell_type": "code",
      "execution_count": null,
      "id": "e687ff32",
      "metadata": {
        "id": "e687ff32"
      },
      "outputs": [],
      "source": [
        "def DF_categories(data): # return Categories DataFrame\n",
        "    list_to_string = (', ').join(data['keypoints'])\n",
        "    df = pd.DataFrame(list_to_string, columns=['keypoints'], index=[0])\n",
        "    return df"
      ]
    },
    {
      "cell_type": "markdown",
      "id": "1b9967fa",
      "metadata": {
        "id": "1b9967fa"
      },
      "source": [
        "### image정보 정리"
      ]
    },
    {
      "cell_type": "code",
      "execution_count": null,
      "id": "383bbaf3",
      "metadata": {
        "id": "383bbaf3"
      },
      "outputs": [],
      "source": [
        "def DF_image(data): # return Image DataFrame\n",
        "    df = pd.DataFrame([data['filename'], data['action'], data['evaluation'], data['hitting']], index=['filename', 'action', 'evaluation', 'hitting']).T\n",
        "    return df"
      ]
    },
    {
      "cell_type": "markdown",
      "id": "12fa1876",
      "metadata": {
        "id": "12fa1876"
      },
      "source": [
        "### actor 정보 정리"
      ]
    },
    {
      "cell_type": "code",
      "execution_count": null,
      "id": "5f52d3a2",
      "metadata": {
        "id": "5f52d3a2"
      },
      "outputs": [],
      "source": [
        "def DF_actor(data): # return Actor DataFrame\n",
        "    return pd.DataFrame(data, index=[0])"
      ]
    },
    {
      "cell_type": "markdown",
      "id": "557e7c02",
      "metadata": {
        "id": "557e7c02"
      },
      "source": [
        "### Anntations 정보 정리"
      ]
    },
    {
      "cell_type": "code",
      "execution_count": null,
      "id": "9a8b4cbf",
      "metadata": {
        "id": "9a8b4cbf"
      },
      "outputs": [],
      "source": [
        "def DF_annotations(data): # return Categories DataFrame\n",
        "    class_list = {'person':0, 'ball':1, 'club':2}\n",
        "    column_list = []\n",
        "    for cls in class_list.keys():\n",
        "          column_list.append(cls) \n",
        "    total_list = [[] for i in range(3)]\n",
        "    \n",
        "    for item in data:\n",
        "        class_idx = class_list[item['class']]\n",
        "        bucket = item.get('box', 0)\n",
        "        if(bucket):\n",
        "            total_list[class_idx].append(bucket)\n",
        "\n",
        "    df = pd.DataFrame(data=total_list, index=column_list).T\n",
        "    return df"
      ]
    },
    {
      "cell_type": "markdown",
      "id": "a37e112b",
      "metadata": {
        "id": "a37e112b"
      },
      "source": [
        "### 각 정보를 정리한 DataFrame 하나로 붙혀주기"
      ]
    },
    {
      "cell_type": "code",
      "execution_count": null,
      "id": "2d6f81b1",
      "metadata": {
        "id": "2d6f81b1"
      },
      "outputs": [],
      "source": [
        "def GetOneLineDF(PATH):\n",
        "    data = json.load(open(PATH, 'rt', encoding='UTF=8'))\n",
        "    df_annotations = DF_annotations(data['annotations'])\n",
        "    df_categories = DF_categories(data['categories'])\n",
        "    df_image = DF_image(data['image'])\n",
        "    df_actor = DF_actor(data['actor'])\n",
        "    \n",
        "    return pd.concat([df_categories, df_image, df_actor, df_annotations], axis=1)"
      ]
    },
    {
      "cell_type": "markdown",
      "id": "7e250a9f",
      "metadata": {
        "id": "7e250a9f"
      },
      "source": [
        "## total-path_list에서 하나씩 꺼내서 Json정보를 DataFrame으로 만들고, CSV저장"
      ]
    },
    {
      "cell_type": "code",
      "execution_count": null,
      "id": "5da1d4c9",
      "metadata": {
        "id": "5da1d4c9"
      },
      "outputs": [],
      "source": [
        "import pandas as pd\n",
        "import json\n",
        "import os\n",
        "pd.options.display.max_colwidth = 200\n",
        "\n",
        "total_df = []\n",
        "\n",
        "for count, PATH in enumerate(total_path_list):\n",
        "\n",
        "    if len(total_df):\n",
        "        total_df = pd.concat([total_df, GetOneLineDF(PATH)], ignore_index=True)\n",
        "    else:\n",
        "        total_df = GetOneLineDF(PATH)\n",
        "\n",
        "\n",
        "image_path_list = []\n",
        "\n",
        "for PATH in total_path_list:\n",
        "    split_PATH = PATH.split('/')\n",
        "    split_PATH[8] = '원천데이터'\n",
        "    PATH = ('/').join(split_PATH)\n",
        "    PATH = PATH.replace('.json', '.jpg')\n",
        "    image_path_list.append(PATH)\n",
        "\n",
        "image_df = pd.DataFrame(image_path_list, columns=['image_path'])\n",
        "total_df = pd.concat([image_df, total_df], axis=1)\n",
        "total_df = total_df.dropna()\n",
        "total_df.to_csv(Base_Path+'/total_Swing.csv', index=False, encoding=\"utf-8-sig\")\n",
        "\n"
      ]
    },
    {
      "cell_type": "markdown",
      "id": "5dedbad9",
      "metadata": {
        "id": "5dedbad9"
      },
      "source": [
        "# MiniSet 만들기"
      ]
    },
    {
      "cell_type": "markdown",
      "source": [
        "## box 데이터 label로 만들기"
      ],
      "metadata": {
        "id": "H9qeEyTAVnhd"
      },
      "id": "H9qeEyTAVnhd"
    },
    {
      "cell_type": "code",
      "source": [
        "import pandas as pd\n",
        "import shutil\n",
        "\n",
        "# box데이터를 YOLO좌표료 변환\n",
        "def str_to_list(data, crop, image_size):\n",
        "    '''\n",
        "        xmin: top-left x coordinate,\n",
        "        ymin: top-left y coordinate,\n",
        "        w: bounding box width,\n",
        "        h: bounding box height,\n",
        "        w_img: image width,\n",
        "        h_img: image height\n",
        "    '''\n",
        "    try:\n",
        "      x, y, w, h = map(int, data[1:-1].split(', '))\n",
        "      x -= crop\n",
        "      xcenter = (x + w/2) / image_size\n",
        "      ycenter = (y + h/2) / image_size\n",
        "      w = w / image_size\n",
        "      h = h / image_size\n",
        "      if xcenter < 0 or xcenter > 1:\n",
        "        return [0]\n",
        "      return [xcenter, ycenter, w, h]\n",
        "    except:\n",
        "      return [0]\n",
        "\n",
        "def Build_label(total_df, save_path):\n",
        "  boxes = []\n",
        "  data = ''\n",
        "  for idx, col in enumerate(['person', 'club', 'ball']):\n",
        "    line = (' ').join(list(map(str, [idx] + str_to_list(total_df[col], (1920-1080)/2, 1080))))\n",
        "    if(line):\n",
        "      data += line + '\\n'\n",
        "  if(len(data)>3):\n",
        "    file_name = total_df['filename'].replace('.jpg', '.txt')\n",
        "    with open(save_path+'/labels/'+file_name, 'w') as f:\n",
        "      f.write(data)\n",
        "      f.close\n",
        "  else:\n",
        "    return False\n",
        "  return True\n",
        "\n",
        "#Build_label(total_df, label_path)"
      ],
      "metadata": {
        "id": "yIUf0LLgVm2f"
      },
      "id": "yIUf0LLgVm2f",
      "execution_count": 153,
      "outputs": []
    },
    {
      "cell_type": "markdown",
      "source": [
        "## image 편집하기"
      ],
      "metadata": {
        "id": "FfN-wwrwgVTM"
      },
      "id": "FfN-wwrwgVTM"
    },
    {
      "cell_type": "code",
      "source": [
        "from PIL import Image\n",
        "\n",
        "def Image_Crop_and_Resize(total_df, bef, aft, save_path):\n",
        "  x = (bef - aft)/2\n",
        "  y = 0\n",
        "  w = aft\n",
        "  h = aft\n",
        "\n",
        "  img = Image.open(total_df['image_path'])\n",
        "  croped_img = img.crop((x, y, x+w, y+h))\n",
        "  resized_img = croped_img.resize((512,512))\n",
        "  resized_img.save(save_path+'/images/'+total_df['image_path'].split('/')[-1])"
      ],
      "metadata": {
        "id": "aHM-ochYgYo5"
      },
      "id": "aHM-ochYgYo5",
      "execution_count": 154,
      "outputs": []
    },
    {
      "cell_type": "markdown",
      "source": [
        "## 메인"
      ],
      "metadata": {
        "id": "Z0ET1CYSmDRe"
      },
      "id": "Z0ET1CYSmDRe"
    },
    {
      "cell_type": "code",
      "execution_count": 155,
      "id": "f8423c58",
      "metadata": {
        "id": "f8423c58"
      },
      "outputs": [],
      "source": [
        "def Build_Miniset(total_df, save_path):\n",
        "  for idx in range(len(total_df)):\n",
        "    if Build_label(total_df.iloc[idx], save_path):\n",
        "      try:\n",
        "        Image_Crop_and_Resize(total_df.iloc[idx], 1920,1080, save_path)\n",
        "      except:\n",
        "        print(total_df['image_path'].iloc[idx])"
      ]
    },
    {
      "cell_type": "markdown",
      "source": [
        "## 실행"
      ],
      "metadata": {
        "id": "47DGgbRjnbMA"
      },
      "id": "47DGgbRjnbMA"
    },
    {
      "cell_type": "code",
      "source": [
        "import pandas as pd\n",
        "\n",
        "total_df = pd.read_csv('/content/drive/MyDrive/Colab Notebooks/공부용/golf/2020-02-097.스포츠사람동작(골프)_sample/total_Swing.csv')\n",
        "save_path = '/content/drive/MyDrive/Colab Notebooks/공부용/golf/dataset'\n",
        "Build_Miniset(total_df, save_path)"
      ],
      "metadata": {
        "colab": {
          "base_uri": "https://localhost:8080/"
        },
        "id": "w_A7Ifrxna16",
        "outputId": "e4237e7a-4081-4f3c-93c2-48d275341736"
      },
      "id": "w_A7Ifrxna16",
      "execution_count": 156,
      "outputs": [
        {
          "output_type": "stream",
          "name": "stdout",
          "text": [
            "/content/drive/MyDrive/Colab Notebooks/공부용/golf/2020-02-097.스포츠사람동작(골프)_sample/원천데이터/Association/Female/Putting/20200517_General_012_DOC_P_F20_MM/20200517_General_012_DOC_P_F20_MM_015_0002.jpg\n",
            "/content/drive/MyDrive/Colab Notebooks/공부용/golf/2020-02-097.스포츠사람동작(골프)_sample/원천데이터/Association/Female/Putting/20200517_General_012_DOC_P_F20_MM/20200517_General_012_DOC_P_F20_MM_015_0202.jpg\n",
            "/content/drive/MyDrive/Colab Notebooks/공부용/golf/2020-02-097.스포츠사람동작(골프)_sample/원천데이터/Association/Female/Putting/20200517_General_012_DOC_P_F20_MM/20200517_General_012_DOC_P_F20_MM_015_0602.jpg\n",
            "/content/drive/MyDrive/Colab Notebooks/공부용/golf/2020-02-097.스포츠사람동작(골프)_sample/원천데이터/Association/Female/Putting/20200517_General_012_DOC_P_F20_MM/20200517_General_012_DOC_P_F20_MM_015_0802.jpg\n",
            "/content/drive/MyDrive/Colab Notebooks/공부용/golf/2020-02-097.스포츠사람동작(골프)_sample/원천데이터/Association/Female/Putting/20200517_General_012_DOC_P_F20_MM/20200517_General_012_DOC_P_F20_MM_015_1002.jpg\n",
            "/content/drive/MyDrive/Colab Notebooks/공부용/golf/2020-02-097.스포츠사람동작(골프)_sample/원천데이터/Association/Female/Putting/20200517_General_012_DOC_P_F20_MM/20200517_General_012_DOC_P_F20_MM_015_1202.jpg\n",
            "/content/drive/MyDrive/Colab Notebooks/공부용/golf/2020-02-097.스포츠사람동작(골프)_sample/원천데이터/Association/Female/Putting/20200517_General_012_DOC_P_F20_MM/20200517_General_012_DOC_P_F20_MM_015_1402.jpg\n",
            "/content/drive/MyDrive/Colab Notebooks/공부용/golf/2020-02-097.스포츠사람동작(골프)_sample/원천데이터/Association/Female/Putting/20200517_General_012_DOC_P_F20_MM/20200517_General_012_DOC_P_F20_MM_015_1602.jpg\n",
            "/content/drive/MyDrive/Colab Notebooks/공부용/golf/2020-02-097.스포츠사람동작(골프)_sample/원천데이터/Association/Female/Putting/20200517_General_012_DOC_P_F20_MM/20200517_General_012_DOC_P_F20_MM_015_1802.jpg\n",
            "/content/drive/MyDrive/Colab Notebooks/공부용/golf/2020-02-097.스포츠사람동작(골프)_sample/원천데이터/Association/Female/Putting/20200517_General_012_DOC_P_F20_MM/20200517_General_012_DOC_P_F20_MM_015_2002.jpg\n",
            "/content/drive/MyDrive/Colab Notebooks/공부용/golf/2020-02-097.스포츠사람동작(골프)_sample/원천데이터/Association/Female/Putting/20200517_General_012_DOC_P_F20_MM/20200517_General_012_DOC_P_F20_MM_015_2202.jpg\n",
            "/content/drive/MyDrive/Colab Notebooks/공부용/golf/2020-02-097.스포츠사람동작(골프)_sample/원천데이터/Association/Female/Putting/20200517_General_012_DOC_P_F20_MM/20200517_General_012_DOC_P_F20_MM_015_2402.jpg\n",
            "/content/drive/MyDrive/Colab Notebooks/공부용/golf/2020-02-097.스포츠사람동작(골프)_sample/원천데이터/Association/Female/Putting/20200517_General_012_DOC_P_F20_MM/20200517_General_012_DOC_P_F20_MM_015_2602.jpg\n",
            "/content/drive/MyDrive/Colab Notebooks/공부용/golf/2020-02-097.스포츠사람동작(골프)_sample/원천데이터/Association/Female/Putting/20200517_General_012_DOC_P_F20_MM/20200517_General_012_DOC_P_F20_MM_015_3202.jpg\n",
            "/content/drive/MyDrive/Colab Notebooks/공부용/golf/2020-02-097.스포츠사람동작(골프)_sample/원천데이터/Association/Female/Putting/20200517_General_012_DOC_P_F20_MM/20200517_General_012_DOC_P_F20_MM_015_3402.jpg\n",
            "/content/drive/MyDrive/Colab Notebooks/공부용/golf/2020-02-097.스포츠사람동작(골프)_sample/원천데이터/Association/Female/Putting/20200517_General_012_DOC_P_F20_MM/20200517_General_012_DOC_P_F20_MM_015_3602.jpg\n",
            "/content/drive/MyDrive/Colab Notebooks/공부용/golf/2020-02-097.스포츠사람동작(골프)_sample/원천데이터/Association/Female/Putting/20200517_General_012_DOC_P_F20_MM/20200517_General_012_DOC_P_F20_MM_015_3802.jpg\n",
            "/content/drive/MyDrive/Colab Notebooks/공부용/golf/2020-02-097.스포츠사람동작(골프)_sample/원천데이터/Association/Female/Putting/20200517_General_012_DOC_P_F20_MM/20200517_General_012_DOC_P_F20_MM_015_4202.jpg\n",
            "/content/drive/MyDrive/Colab Notebooks/공부용/golf/2020-02-097.스포츠사람동작(골프)_sample/원천데이터/Association/Female/Putting/20200517_General_012_DOC_P_F20_MM/20200517_General_012_DOC_P_F20_MM_015_4402.jpg\n",
            "/content/drive/MyDrive/Colab Notebooks/공부용/golf/2020-02-097.스포츠사람동작(골프)_sample/원천데이터/Association/Female/Putting/20200517_General_012_DOC_P_F20_MM/20200517_General_012_DOC_P_F20_MM_015_4602.jpg\n",
            "/content/drive/MyDrive/Colab Notebooks/공부용/golf/2020-02-097.스포츠사람동작(골프)_sample/원천데이터/Association/Female/Putting/20200517_General_012_DOC_P_F20_MM/20200517_General_012_DOC_P_F20_MM_015_4802.jpg\n",
            "/content/drive/MyDrive/Colab Notebooks/공부용/golf/2020-02-097.스포츠사람동작(골프)_sample/원천데이터/Association/Female/Putting/20200517_General_012_DOC_P_F20_MM/20200517_General_012_DOC_P_F20_MM_015_5002.jpg\n",
            "/content/drive/MyDrive/Colab Notebooks/공부용/golf/2020-02-097.스포츠사람동작(골프)_sample/원천데이터/Association/Female/Putting/20200517_General_012_DOC_P_F20_MM/20200517_General_012_DOC_P_F20_MM_016_0048.jpg\n",
            "/content/drive/MyDrive/Colab Notebooks/공부용/golf/2020-02-097.스포츠사람동작(골프)_sample/원천데이터/Association/Female/Putting/20200517_General_012_DOC_P_F20_MM/20200517_General_012_DOC_P_F20_MM_016_0448.jpg\n",
            "/content/drive/MyDrive/Colab Notebooks/공부용/golf/2020-02-097.스포츠사람동작(골프)_sample/원천데이터/Association/Female/Putting/20200517_General_012_DOC_P_F20_MM/20200517_General_012_DOC_P_F20_MM_016_1048.jpg\n",
            "/content/drive/MyDrive/Colab Notebooks/공부용/golf/2020-02-097.스포츠사람동작(골프)_sample/원천데이터/Association/Female/Putting/20200517_General_012_DOC_P_F20_MM/20200517_General_012_DOC_P_F20_MM_016_1248.jpg\n",
            "/content/drive/MyDrive/Colab Notebooks/공부용/golf/2020-02-097.스포츠사람동작(골프)_sample/원천데이터/Association/Female/Putting/20200517_General_012_DOC_P_F20_MM/20200517_General_012_DOC_P_F20_MM_016_1448.jpg\n",
            "/content/drive/MyDrive/Colab Notebooks/공부용/golf/2020-02-097.스포츠사람동작(골프)_sample/원천데이터/Association/Female/Putting/20200517_General_012_DOC_P_F20_MM/20200517_General_012_DOC_P_F20_MM_016_1648.jpg\n",
            "/content/drive/MyDrive/Colab Notebooks/공부용/golf/2020-02-097.스포츠사람동작(골프)_sample/원천데이터/Association/Female/Putting/20200517_General_012_DOC_P_F20_MM/20200517_General_012_DOC_P_F20_MM_016_1848.jpg\n",
            "/content/drive/MyDrive/Colab Notebooks/공부용/golf/2020-02-097.스포츠사람동작(골프)_sample/원천데이터/Association/Female/Putting/20200517_General_012_DOC_P_F20_MM/20200517_General_012_DOC_P_F20_MM_016_2048.jpg\n",
            "/content/drive/MyDrive/Colab Notebooks/공부용/golf/2020-02-097.스포츠사람동작(골프)_sample/원천데이터/Association/Female/Putting/20200517_General_012_DOC_P_F20_MM/20200517_General_012_DOC_P_F20_MM_016_2248.jpg\n",
            "/content/drive/MyDrive/Colab Notebooks/공부용/golf/2020-02-097.스포츠사람동작(골프)_sample/원천데이터/Association/Female/Putting/20200517_General_012_DOC_P_F20_MM/20200517_General_012_DOC_P_F20_MM_016_2448.jpg\n",
            "/content/drive/MyDrive/Colab Notebooks/공부용/golf/2020-02-097.스포츠사람동작(골프)_sample/원천데이터/Association/Female/Putting/20200517_General_012_DOC_P_F20_MM/20200517_General_012_DOC_P_F20_MM_016_2648.jpg\n",
            "/content/drive/MyDrive/Colab Notebooks/공부용/golf/2020-02-097.스포츠사람동작(골프)_sample/원천데이터/Association/Female/Putting/20200517_General_012_DOC_P_F20_MM/20200517_General_012_DOC_P_F20_MM_016_2848.jpg\n",
            "/content/drive/MyDrive/Colab Notebooks/공부용/golf/2020-02-097.스포츠사람동작(골프)_sample/원천데이터/Association/Female/Putting/20200517_General_012_DOC_P_F20_MM/20200517_General_012_DOC_P_F20_MM_016_3048.jpg\n",
            "/content/drive/MyDrive/Colab Notebooks/공부용/golf/2020-02-097.스포츠사람동작(골프)_sample/원천데이터/Association/Female/Putting/20200517_General_012_DOC_P_F20_MM/20200517_General_012_DOC_P_F20_MM_016_3248.jpg\n",
            "/content/drive/MyDrive/Colab Notebooks/공부용/golf/2020-02-097.스포츠사람동작(골프)_sample/원천데이터/Association/Female/Putting/20200517_General_012_DOC_P_F20_MM/20200517_General_012_DOC_P_F20_MM_016_3448.jpg\n",
            "/content/drive/MyDrive/Colab Notebooks/공부용/golf/2020-02-097.스포츠사람동작(골프)_sample/원천데이터/Association/Female/Putting/20200517_General_012_DOC_P_F20_MM/20200517_General_012_DOC_P_F20_MM_016_3648.jpg\n",
            "/content/drive/MyDrive/Colab Notebooks/공부용/golf/2020-02-097.스포츠사람동작(골프)_sample/원천데이터/Association/Female/Putting/20200517_General_012_DOC_P_F20_MM/20200517_General_012_DOC_P_F20_MM_016_3848.jpg\n",
            "/content/drive/MyDrive/Colab Notebooks/공부용/golf/2020-02-097.스포츠사람동작(골프)_sample/원천데이터/Association/Female/Putting/20200517_General_012_DOC_P_F20_MM/20200517_General_012_DOC_P_F20_MM_016_4048.jpg\n",
            "/content/drive/MyDrive/Colab Notebooks/공부용/golf/2020-02-097.스포츠사람동작(골프)_sample/원천데이터/Association/Female/Putting/20200517_General_012_DOC_P_F20_MM/20200517_General_012_DOC_P_F20_MM_016_4248.jpg\n",
            "/content/drive/MyDrive/Colab Notebooks/공부용/golf/2020-02-097.스포츠사람동작(골프)_sample/원천데이터/Association/Female/Putting/20200517_General_012_DOC_P_F20_MM/20200517_General_012_DOC_P_F20_MM_016_4448.jpg\n",
            "/content/drive/MyDrive/Colab Notebooks/공부용/golf/2020-02-097.스포츠사람동작(골프)_sample/원천데이터/Association/Female/Putting/20200517_General_012_DOC_P_F20_MM/20200517_General_012_DOC_P_F20_MM_016_4648.jpg\n",
            "/content/drive/MyDrive/Colab Notebooks/공부용/golf/2020-02-097.스포츠사람동작(골프)_sample/원천데이터/Association/Female/Putting/20200517_General_012_DOC_P_F20_MM/20200517_General_012_DOC_P_F20_MM_016_4848.jpg\n",
            "/content/drive/MyDrive/Colab Notebooks/공부용/golf/2020-02-097.스포츠사람동작(골프)_sample/원천데이터/Association/Female/Putting/20200517_General_012_DOC_P_F20_MM/20200517_General_012_DOC_P_F20_MM_016_5048.jpg\n",
            "/content/drive/MyDrive/Colab Notebooks/공부용/golf/2020-02-097.스포츠사람동작(골프)_sample/원천데이터/Association/Female/Putting/20200517_General_012_DOC_P_F20_MM/20200517_General_012_DOC_P_F20_MM_016_5248.jpg\n",
            "/content/drive/MyDrive/Colab Notebooks/공부용/golf/2020-02-097.스포츠사람동작(골프)_sample/원천데이터/Association/Female/Putting/20200517_General_012_DOC_P_F20_MM/20200517_General_012_DOC_P_F20_MM_016_5448.jpg\n",
            "/content/drive/MyDrive/Colab Notebooks/공부용/golf/2020-02-097.스포츠사람동작(골프)_sample/원천데이터/Association/Female/Putting/20200517_General_012_DOC_P_F20_MM/20200517_General_012_DOC_P_F20_MM_016_5648.jpg\n",
            "/content/drive/MyDrive/Colab Notebooks/공부용/golf/2020-02-097.스포츠사람동작(골프)_sample/원천데이터/Association/Female/Putting/20200517_General_012_DOC_P_F20_MM/20200517_General_012_DOC_P_F20_MM_016_5848.jpg\n",
            "/content/drive/MyDrive/Colab Notebooks/공부용/golf/2020-02-097.스포츠사람동작(골프)_sample/원천데이터/Association/Female/Putting/20200517_General_012_DOC_P_F20_MM/20200517_General_012_DOC_P_F20_MM_016_6048.jpg\n",
            "/content/drive/MyDrive/Colab Notebooks/공부용/golf/2020-02-097.스포츠사람동작(골프)_sample/원천데이터/Association/Female/Putting/20200517_General_012_DOC_P_F20_MM/20200517_General_012_DOC_P_F20_MM_016_6248.jpg\n",
            "/content/drive/MyDrive/Colab Notebooks/공부용/golf/2020-02-097.스포츠사람동작(골프)_sample/원천데이터/Association/Female/Putting/20200517_General_012_DOC_P_F20_MM/20200517_General_012_DOC_P_F20_MM_016_6448.jpg\n",
            "/content/drive/MyDrive/Colab Notebooks/공부용/golf/2020-02-097.스포츠사람동작(골프)_sample/원천데이터/Association/Female/Putting/20200517_General_012_DOC_P_F20_MM/20200517_General_012_DOC_P_F20_MM_016_6648.jpg\n",
            "/content/drive/MyDrive/Colab Notebooks/공부용/golf/2020-02-097.스포츠사람동작(골프)_sample/원천데이터/Association/Female/Putting/20200517_General_012_DOC_P_F20_MM/20200517_General_012_DOC_P_F20_MM_016_6848.jpg\n",
            "/content/drive/MyDrive/Colab Notebooks/공부용/golf/2020-02-097.스포츠사람동작(골프)_sample/원천데이터/Association/Female/Putting/20200517_General_012_DOC_P_F20_MM/20200517_General_012_DOC_P_F20_MM_016_7248.jpg\n",
            "/content/drive/MyDrive/Colab Notebooks/공부용/golf/2020-02-097.스포츠사람동작(골프)_sample/원천데이터/Association/Female/Putting/20200517_General_012_DOC_P_F20_MM/20200517_General_012_DOC_P_F20_MM_016_7448.jpg\n",
            "/content/drive/MyDrive/Colab Notebooks/공부용/golf/2020-02-097.스포츠사람동작(골프)_sample/원천데이터/Association/Female/Putting/20200517_General_012_DOC_P_F20_MM/20200517_General_012_DOC_P_F20_MM_016_7648.jpg\n",
            "/content/drive/MyDrive/Colab Notebooks/공부용/golf/2020-02-097.스포츠사람동작(골프)_sample/원천데이터/Association/Female/Putting/20200517_General_012_DOC_P_F20_MM/20200517_General_012_DOC_P_F20_MM_016_7848.jpg\n",
            "/content/drive/MyDrive/Colab Notebooks/공부용/golf/2020-02-097.스포츠사람동작(골프)_sample/원천데이터/Association/Female/Putting/20200517_General_012_DOC_P_F20_MM/20200517_General_012_DOC_P_F20_MM_016_8048.jpg\n",
            "/content/drive/MyDrive/Colab Notebooks/공부용/golf/2020-02-097.스포츠사람동작(골프)_sample/원천데이터/Association/Female/Putting/20200517_General_012_DOC_P_F20_MM/20200517_General_012_DOC_P_F20_MM_016_8248.jpg\n",
            "/content/drive/MyDrive/Colab Notebooks/공부용/golf/2020-02-097.스포츠사람동작(골프)_sample/원천데이터/Association/Female/Putting/20200517_General_012_DOC_P_F20_MM/20200517_General_012_DOC_P_F20_MM_016_8448.jpg\n",
            "/content/drive/MyDrive/Colab Notebooks/공부용/golf/2020-02-097.스포츠사람동작(골프)_sample/원천데이터/Association/Female/Putting/20200517_General_012_DOC_P_F20_MM/20200517_General_012_DOC_P_F20_MM_028_0062.jpg\n",
            "/content/drive/MyDrive/Colab Notebooks/공부용/golf/2020-02-097.스포츠사람동작(골프)_sample/원천데이터/Association/Female/Putting/20200517_General_012_DOC_P_F20_MM/20200517_General_012_DOC_P_F20_MM_028_0862.jpg\n",
            "/content/drive/MyDrive/Colab Notebooks/공부용/golf/2020-02-097.스포츠사람동작(골프)_sample/원천데이터/Association/Female/Putting/20200517_General_012_DOC_P_F20_MM/20200517_General_012_DOC_P_F20_MM_028_1062.jpg\n",
            "/content/drive/MyDrive/Colab Notebooks/공부용/golf/2020-02-097.스포츠사람동작(골프)_sample/원천데이터/Association/Female/Putting/20200517_General_012_DOC_P_F20_MM/20200517_General_012_DOC_P_F20_MM_028_1262.jpg\n",
            "/content/drive/MyDrive/Colab Notebooks/공부용/golf/2020-02-097.스포츠사람동작(골프)_sample/원천데이터/Association/Female/Putting/20200517_General_012_DOC_P_F20_MM/20200517_General_012_DOC_P_F20_MM_028_1462.jpg\n",
            "/content/drive/MyDrive/Colab Notebooks/공부용/golf/2020-02-097.스포츠사람동작(골프)_sample/원천데이터/Association/Female/Putting/20200517_General_012_DOC_P_F20_MM/20200517_General_012_DOC_P_F20_MM_028_1662.jpg\n",
            "/content/drive/MyDrive/Colab Notebooks/공부용/golf/2020-02-097.스포츠사람동작(골프)_sample/원천데이터/Association/Female/Putting/20200517_General_012_DOC_P_F20_MM/20200517_General_012_DOC_P_F20_MM_028_1862.jpg\n",
            "/content/drive/MyDrive/Colab Notebooks/공부용/golf/2020-02-097.스포츠사람동작(골프)_sample/원천데이터/Association/Female/Putting/20200517_General_012_DOC_P_F20_MM/20200517_General_012_DOC_P_F20_MM_028_2062.jpg\n",
            "/content/drive/MyDrive/Colab Notebooks/공부용/golf/2020-02-097.스포츠사람동작(골프)_sample/원천데이터/Association/Female/Putting/20200517_General_012_DOC_P_F20_MM/20200517_General_012_DOC_P_F20_MM_028_2262.jpg\n",
            "/content/drive/MyDrive/Colab Notebooks/공부용/golf/2020-02-097.스포츠사람동작(골프)_sample/원천데이터/Association/Female/Putting/20200517_General_012_DOC_P_F20_MM/20200517_General_012_DOC_P_F20_MM_028_2462.jpg\n",
            "/content/drive/MyDrive/Colab Notebooks/공부용/golf/2020-02-097.스포츠사람동작(골프)_sample/원천데이터/Association/Female/Putting/20200517_General_012_DOC_P_F20_MM/20200517_General_012_DOC_P_F20_MM_028_2662.jpg\n",
            "/content/drive/MyDrive/Colab Notebooks/공부용/golf/2020-02-097.스포츠사람동작(골프)_sample/원천데이터/Association/Female/Putting/20200517_General_012_DOC_P_F20_MM/20200517_General_012_DOC_P_F20_MM_028_2862.jpg\n",
            "/content/drive/MyDrive/Colab Notebooks/공부용/golf/2020-02-097.스포츠사람동작(골프)_sample/원천데이터/Association/Female/Putting/20200517_General_012_DOC_P_F20_MM/20200517_General_012_DOC_P_F20_MM_028_3062.jpg\n",
            "/content/drive/MyDrive/Colab Notebooks/공부용/golf/2020-02-097.스포츠사람동작(골프)_sample/원천데이터/Association/Female/Putting/20200517_General_012_DOC_P_F20_MM/20200517_General_012_DOC_P_F20_MM_028_3262.jpg\n",
            "/content/drive/MyDrive/Colab Notebooks/공부용/golf/2020-02-097.스포츠사람동작(골프)_sample/원천데이터/Association/Female/Putting/20200517_General_012_DOC_P_F20_MM/20200517_General_012_DOC_P_F20_MM_028_3462.jpg\n",
            "/content/drive/MyDrive/Colab Notebooks/공부용/golf/2020-02-097.스포츠사람동작(골프)_sample/원천데이터/Association/Female/Putting/20200517_General_012_DOC_P_F20_MM/20200517_General_012_DOC_P_F20_MM_028_3662.jpg\n",
            "/content/drive/MyDrive/Colab Notebooks/공부용/golf/2020-02-097.스포츠사람동작(골프)_sample/원천데이터/Association/Female/Putting/20200517_General_012_DOC_P_F20_MM/20200517_General_012_DOC_P_F20_MM_028_3862.jpg\n",
            "/content/drive/MyDrive/Colab Notebooks/공부용/golf/2020-02-097.스포츠사람동작(골프)_sample/원천데이터/Association/Female/Putting/20200517_General_012_DOC_P_F20_MM/20200517_General_012_DOC_P_F20_MM_028_4062.jpg\n",
            "/content/drive/MyDrive/Colab Notebooks/공부용/golf/2020-02-097.스포츠사람동작(골프)_sample/원천데이터/Association/Female/Putting/20200517_General_012_DOC_P_F20_MM/20200517_General_012_DOC_P_F20_MM_028_4262.jpg\n",
            "/content/drive/MyDrive/Colab Notebooks/공부용/golf/2020-02-097.스포츠사람동작(골프)_sample/원천데이터/Association/Female/Putting/20200517_General_012_DOC_P_F20_MM/20200517_General_012_DOC_P_F20_MM_028_4462.jpg\n",
            "/content/drive/MyDrive/Colab Notebooks/공부용/golf/2020-02-097.스포츠사람동작(골프)_sample/원천데이터/Association/Female/Putting/20200517_General_012_DOC_P_F20_MM/20200517_General_012_DOC_P_F20_MM_028_4662.jpg\n",
            "/content/drive/MyDrive/Colab Notebooks/공부용/golf/2020-02-097.스포츠사람동작(골프)_sample/원천데이터/Association/Female/Putting/20200517_General_012_DOC_P_F20_MM/20200517_General_012_DOC_P_F20_MM_028_4862.jpg\n",
            "/content/drive/MyDrive/Colab Notebooks/공부용/golf/2020-02-097.스포츠사람동작(골프)_sample/원천데이터/Association/Female/Putting/20200517_General_012_DOC_P_F20_MM/20200517_General_012_DOC_P_F20_MM_028_5062.jpg\n",
            "/content/drive/MyDrive/Colab Notebooks/공부용/golf/2020-02-097.스포츠사람동작(골프)_sample/원천데이터/Association/Female/Putting/20200517_General_012_DOC_P_F20_MM/20200517_General_012_DOC_P_F20_MM_028_5262.jpg\n",
            "/content/drive/MyDrive/Colab Notebooks/공부용/golf/2020-02-097.스포츠사람동작(골프)_sample/원천데이터/Association/Female/Putting/20200517_General_012_DOC_P_F20_MM/20200517_General_012_DOC_P_F20_MM_028_5462.jpg\n",
            "/content/drive/MyDrive/Colab Notebooks/공부용/golf/2020-02-097.스포츠사람동작(골프)_sample/원천데이터/Association/Female/Putting/20200517_General_012_DOC_P_F20_MM/20200517_General_012_DOC_P_F20_MM_028_5662.jpg\n",
            "/content/drive/MyDrive/Colab Notebooks/공부용/golf/2020-02-097.스포츠사람동작(골프)_sample/원천데이터/Association/Female/Putting/20200517_General_012_DOC_P_F20_MM/20200517_General_012_DOC_P_F20_MM_028_5862.jpg\n",
            "/content/drive/MyDrive/Colab Notebooks/공부용/golf/2020-02-097.스포츠사람동작(골프)_sample/원천데이터/Association/Female/Putting/20200517_General_012_DOC_P_F20_MM/20200517_General_012_DOC_P_F20_MM_028_6062.jpg\n",
            "/content/drive/MyDrive/Colab Notebooks/공부용/golf/2020-02-097.스포츠사람동작(골프)_sample/원천데이터/Association/Female/Putting/20200517_General_012_DOC_P_F20_MM/20200517_General_012_DOC_P_F20_MM_028_6262.jpg\n",
            "/content/drive/MyDrive/Colab Notebooks/공부용/golf/2020-02-097.스포츠사람동작(골프)_sample/원천데이터/Association/Female/Putting/20200517_General_012_DOC_P_F20_MM/20200517_General_012_DOC_P_F20_MM_028_6462.jpg\n",
            "/content/drive/MyDrive/Colab Notebooks/공부용/golf/2020-02-097.스포츠사람동작(골프)_sample/원천데이터/Association/Female/Putting/20200517_General_012_DOC_P_F20_MM/20200517_General_012_DOC_P_F20_MM_028_6662.jpg\n",
            "/content/drive/MyDrive/Colab Notebooks/공부용/golf/2020-02-097.스포츠사람동작(골프)_sample/원천데이터/Association/Female/Putting/20200517_General_012_DOC_P_F20_MM/20200517_General_012_DOC_P_F20_MM_028_6862.jpg\n",
            "/content/drive/MyDrive/Colab Notebooks/공부용/golf/2020-02-097.스포츠사람동작(골프)_sample/원천데이터/Association/Female/Putting/20200517_General_012_DOC_P_F20_MM/20200517_General_012_DOC_P_F20_MM_028_7062.jpg\n",
            "/content/drive/MyDrive/Colab Notebooks/공부용/golf/2020-02-097.스포츠사람동작(골프)_sample/원천데이터/Association/Female/Putting/20200517_General_012_DOC_P_F20_MM/20200517_General_012_DOC_P_F20_MM_028_7262.jpg\n",
            "/content/drive/MyDrive/Colab Notebooks/공부용/golf/2020-02-097.스포츠사람동작(골프)_sample/원천데이터/Association/Female/Putting/20200517_General_012_DOC_P_F20_MM/20200517_General_012_DOC_P_F20_MM_028_7462.jpg\n",
            "/content/drive/MyDrive/Colab Notebooks/공부용/golf/2020-02-097.스포츠사람동작(골프)_sample/원천데이터/Association/Female/Putting/20200517_General_012_DOC_P_F20_MM/20200517_General_012_DOC_P_F20_MM_028_7662.jpg\n",
            "/content/drive/MyDrive/Colab Notebooks/공부용/golf/2020-02-097.스포츠사람동작(골프)_sample/원천데이터/Association/Female/Putting/20200517_General_012_DOC_P_F20_MM/20200517_General_012_DOC_P_F20_MM_028_7862.jpg\n",
            "/content/drive/MyDrive/Colab Notebooks/공부용/golf/2020-02-097.스포츠사람동작(골프)_sample/원천데이터/Association/Female/Putting/20200517_General_012_DOC_P_F20_MM/20200517_General_012_DOC_P_F20_MM_028_8062.jpg\n",
            "/content/drive/MyDrive/Colab Notebooks/공부용/golf/2020-02-097.스포츠사람동작(골프)_sample/원천데이터/Association/Female/Putting/20200517_General_012_DOC_P_F20_MM/20200517_General_012_DOC_P_F20_MM_028_8262.jpg\n",
            "/content/drive/MyDrive/Colab Notebooks/공부용/golf/2020-02-097.스포츠사람동작(골프)_sample/원천데이터/Association/Female/Putting/20200517_General_012_DOC_P_F20_MM/20200517_General_012_DOC_P_F20_MM_028_8662.jpg\n",
            "/content/drive/MyDrive/Colab Notebooks/공부용/golf/2020-02-097.스포츠사람동작(골프)_sample/원천데이터/Association/Female/Putting/20200517_General_012_DOC_P_F20_MM/20200517_General_012_DOC_P_F20_MM_028_9062.jpg\n",
            "/content/drive/MyDrive/Colab Notebooks/공부용/golf/2020-02-097.스포츠사람동작(골프)_sample/원천데이터/Association/Female/Putting/20200517_General_012_DOC_P_F20_MM/20200517_General_012_DOC_P_F20_MM_028_9262.jpg\n",
            "/content/drive/MyDrive/Colab Notebooks/공부용/golf/2020-02-097.스포츠사람동작(골프)_sample/원천데이터/Association/Female/Putting/20200517_General_012_DOC_P_F20_MM/20200517_General_012_DOC_P_F20_MM_028_9462.jpg\n",
            "/content/drive/MyDrive/Colab Notebooks/공부용/golf/2020-02-097.스포츠사람동작(골프)_sample/원천데이터/Association/Female/Putting/20200517_General_012_DOC_P_F20_MM/20200517_General_012_DOC_P_F20_MM_028_9662.jpg\n",
            "/content/drive/MyDrive/Colab Notebooks/공부용/golf/2020-02-097.스포츠사람동작(골프)_sample/원천데이터/Association/Female/Putting/20200517_General_012_DOC_P_F20_MM/20200517_General_012_DOC_P_F20_MM_028_9862.jpg\n",
            "/content/drive/MyDrive/Colab Notebooks/공부용/golf/2020-02-097.스포츠사람동작(골프)_sample/원천데이터/Association/Female/Putting/20200517_General_012_DOC_P_F20_MM/20200517_General_012_DOC_P_F20_MM_031_0063.jpg\n",
            "/content/drive/MyDrive/Colab Notebooks/공부용/golf/2020-02-097.스포츠사람동작(골프)_sample/원천데이터/Association/Female/Putting/20200517_General_012_DOC_P_F20_MM/20200517_General_012_DOC_P_F20_MM_031_0263.jpg\n",
            "/content/drive/MyDrive/Colab Notebooks/공부용/golf/2020-02-097.스포츠사람동작(골프)_sample/원천데이터/Association/Female/Putting/20200517_General_012_DOC_P_F20_MM/20200517_General_012_DOC_P_F20_MM_031_0463.jpg\n",
            "/content/drive/MyDrive/Colab Notebooks/공부용/golf/2020-02-097.스포츠사람동작(골프)_sample/원천데이터/Association/Female/Putting/20200517_General_012_DOC_P_F20_MM/20200517_General_012_DOC_P_F20_MM_031_0663.jpg\n",
            "/content/drive/MyDrive/Colab Notebooks/공부용/golf/2020-02-097.스포츠사람동작(골프)_sample/원천데이터/Association/Female/Putting/20200517_General_012_DOC_P_F20_MM/20200517_General_012_DOC_P_F20_MM_031_0863.jpg\n",
            "/content/drive/MyDrive/Colab Notebooks/공부용/golf/2020-02-097.스포츠사람동작(골프)_sample/원천데이터/Association/Female/Putting/20200517_General_012_DOC_P_F20_MM/20200517_General_012_DOC_P_F20_MM_031_1063.jpg\n",
            "/content/drive/MyDrive/Colab Notebooks/공부용/golf/2020-02-097.스포츠사람동작(골프)_sample/원천데이터/Association/Female/Putting/20200517_General_012_DOC_P_F20_MM/20200517_General_012_DOC_P_F20_MM_031_1263.jpg\n",
            "/content/drive/MyDrive/Colab Notebooks/공부용/golf/2020-02-097.스포츠사람동작(골프)_sample/원천데이터/Association/Female/Putting/20200517_General_012_DOC_P_F20_MM/20200517_General_012_DOC_P_F20_MM_044_0094.jpg\n",
            "/content/drive/MyDrive/Colab Notebooks/공부용/golf/2020-02-097.스포츠사람동작(골프)_sample/원천데이터/Association/Female/Putting/20200517_General_012_DOC_P_F20_MM/20200517_General_012_DOC_P_F20_MM_044_0294.jpg\n",
            "/content/drive/MyDrive/Colab Notebooks/공부용/golf/2020-02-097.스포츠사람동작(골프)_sample/원천데이터/Association/Female/Putting/20200517_General_012_DOC_P_F20_MM/20200517_General_012_DOC_P_F20_MM_044_0494.jpg\n",
            "/content/drive/MyDrive/Colab Notebooks/공부용/golf/2020-02-097.스포츠사람동작(골프)_sample/원천데이터/Association/Female/Putting/20200517_General_012_DOC_P_F20_MM/20200517_General_012_DOC_P_F20_MM_044_0694.jpg\n",
            "/content/drive/MyDrive/Colab Notebooks/공부용/golf/2020-02-097.스포츠사람동작(골프)_sample/원천데이터/Association/Female/Putting/20200517_General_012_DOC_P_F20_MM/20200517_General_012_DOC_P_F20_MM_044_0894.jpg\n",
            "/content/drive/MyDrive/Colab Notebooks/공부용/golf/2020-02-097.스포츠사람동작(골프)_sample/원천데이터/Association/Female/Putting/20200517_General_012_DOC_P_F20_MM/20200517_General_012_DOC_P_F20_MM_044_1094.jpg\n",
            "/content/drive/MyDrive/Colab Notebooks/공부용/golf/2020-02-097.스포츠사람동작(골프)_sample/원천데이터/Association/Female/Putting/20200517_General_012_DOC_P_F20_MM/20200517_General_012_DOC_P_F20_MM_044_1294.jpg\n",
            "/content/drive/MyDrive/Colab Notebooks/공부용/golf/2020-02-097.스포츠사람동작(골프)_sample/원천데이터/Association/Female/Putting/20200517_General_012_DOC_P_F20_MM/20200517_General_012_DOC_P_F20_MM_044_1494.jpg\n",
            "/content/drive/MyDrive/Colab Notebooks/공부용/golf/2020-02-097.스포츠사람동작(골프)_sample/원천데이터/Association/Female/Putting/20200517_General_012_DOC_P_F20_MM/20200517_General_012_DOC_P_F20_MM_044_1694.jpg\n",
            "/content/drive/MyDrive/Colab Notebooks/공부용/golf/2020-02-097.스포츠사람동작(골프)_sample/원천데이터/Association/Female/Putting/20200517_General_012_DOC_P_F20_MM/20200517_General_012_DOC_P_F20_MM_044_1894.jpg\n",
            "/content/drive/MyDrive/Colab Notebooks/공부용/golf/2020-02-097.스포츠사람동작(골프)_sample/원천데이터/Association/Female/Putting/20200517_General_012_DOC_P_F20_MM/20200517_General_012_DOC_P_F20_MM_044_2094.jpg\n",
            "/content/drive/MyDrive/Colab Notebooks/공부용/golf/2020-02-097.스포츠사람동작(골프)_sample/원천데이터/Association/Female/Putting/20200517_General_012_DOC_P_F20_MM/20200517_General_012_DOC_P_F20_MM_044_2294.jpg\n",
            "/content/drive/MyDrive/Colab Notebooks/공부용/golf/2020-02-097.스포츠사람동작(골프)_sample/원천데이터/Association/Female/Putting/20200517_General_012_DOC_P_F20_MM/20200517_General_012_DOC_P_F20_MM_044_2494.jpg\n",
            "/content/drive/MyDrive/Colab Notebooks/공부용/golf/2020-02-097.스포츠사람동작(골프)_sample/원천데이터/Association/Female/Putting/20200517_General_012_DOC_P_F20_MM/20200517_General_012_DOC_P_F20_MM_044_2694.jpg\n",
            "/content/drive/MyDrive/Colab Notebooks/공부용/golf/2020-02-097.스포츠사람동작(골프)_sample/원천데이터/Association/Female/Putting/20200517_General_012_DOC_P_F20_MM/20200517_General_012_DOC_P_F20_MM_044_2894.jpg\n",
            "/content/drive/MyDrive/Colab Notebooks/공부용/golf/2020-02-097.스포츠사람동작(골프)_sample/원천데이터/Association/Female/Putting/20200517_General_012_DOC_P_F20_MM/20200517_General_012_DOC_P_F20_MM_045_0164.jpg\n",
            "/content/drive/MyDrive/Colab Notebooks/공부용/golf/2020-02-097.스포츠사람동작(골프)_sample/원천데이터/Association/Female/Putting/20200517_General_012_DOC_P_F20_MM/20200517_General_012_DOC_P_F20_MM_045_0364.jpg\n",
            "/content/drive/MyDrive/Colab Notebooks/공부용/golf/2020-02-097.스포츠사람동작(골프)_sample/원천데이터/Association/Female/Putting/20200517_General_012_DOC_P_F20_MM/20200517_General_012_DOC_P_F20_MM_045_0564.jpg\n",
            "/content/drive/MyDrive/Colab Notebooks/공부용/golf/2020-02-097.스포츠사람동작(골프)_sample/원천데이터/Association/Female/Putting/20200517_General_012_DOC_P_F20_MM/20200517_General_012_DOC_P_F20_MM_045_0764.jpg\n",
            "/content/drive/MyDrive/Colab Notebooks/공부용/golf/2020-02-097.스포츠사람동작(골프)_sample/원천데이터/Association/Female/Putting/20200517_General_012_DOC_P_F20_MM/20200517_General_012_DOC_P_F20_MM_045_0964.jpg\n",
            "/content/drive/MyDrive/Colab Notebooks/공부용/golf/2020-02-097.스포츠사람동작(골프)_sample/원천데이터/Association/Female/Putting/20200517_General_012_DOC_P_F20_MM/20200517_General_012_DOC_P_F20_MM_045_1164.jpg\n",
            "/content/drive/MyDrive/Colab Notebooks/공부용/golf/2020-02-097.스포츠사람동작(골프)_sample/원천데이터/Association/Female/Putting/20200517_General_012_DOC_P_F20_MM/20200517_General_012_DOC_P_F20_MM_045_1764.jpg\n",
            "/content/drive/MyDrive/Colab Notebooks/공부용/golf/2020-02-097.스포츠사람동작(골프)_sample/원천데이터/Association/Female/Putting/20200517_General_012_DOC_P_F20_MM/20200517_General_012_DOC_P_F20_MM_045_1964.jpg\n",
            "/content/drive/MyDrive/Colab Notebooks/공부용/golf/2020-02-097.스포츠사람동작(골프)_sample/원천데이터/Association/Female/Putting/20200517_General_012_DOC_P_F20_MM/20200517_General_012_DOC_P_F20_MM_045_2164.jpg\n",
            "/content/drive/MyDrive/Colab Notebooks/공부용/golf/2020-02-097.스포츠사람동작(골프)_sample/원천데이터/Association/Female/Putting/20200517_General_012_DOC_P_F20_MM/20200517_General_012_DOC_P_F20_MM_045_2364.jpg\n",
            "/content/drive/MyDrive/Colab Notebooks/공부용/golf/2020-02-097.스포츠사람동작(골프)_sample/원천데이터/Association/Female/Putting/20200517_General_012_DOC_P_F20_MM/20200517_General_012_DOC_P_F20_MM_045_2564.jpg\n",
            "/content/drive/MyDrive/Colab Notebooks/공부용/golf/2020-02-097.스포츠사람동작(골프)_sample/원천데이터/Association/Female/Putting/20200517_General_012_DOC_P_F20_MM/20200517_General_012_DOC_P_F20_MM_045_2764.jpg\n",
            "/content/drive/MyDrive/Colab Notebooks/공부용/golf/2020-02-097.스포츠사람동작(골프)_sample/원천데이터/Association/Female/Putting/20200517_General_012_DOC_P_F20_MM/20200517_General_012_DOC_P_F20_MM_045_2964.jpg\n",
            "/content/drive/MyDrive/Colab Notebooks/공부용/golf/2020-02-097.스포츠사람동작(골프)_sample/원천데이터/Association/Female/Putting/20200517_General_012_DOC_P_F20_MM/20200517_General_012_DOC_P_F20_MM_045_3164.jpg\n",
            "/content/drive/MyDrive/Colab Notebooks/공부용/golf/2020-02-097.스포츠사람동작(골프)_sample/원천데이터/Association/Female/Putting/20200517_General_012_DOC_P_F20_MM/20200517_General_012_DOC_P_F20_MM_045_3364.jpg\n",
            "/content/drive/MyDrive/Colab Notebooks/공부용/golf/2020-02-097.스포츠사람동작(골프)_sample/원천데이터/Association/Female/Putting/20200517_General_012_DOC_P_F20_MM/20200517_General_012_DOC_P_F20_MM_045_3564.jpg\n",
            "/content/drive/MyDrive/Colab Notebooks/공부용/golf/2020-02-097.스포츠사람동작(골프)_sample/원천데이터/Association/Female/Putting/20200517_General_012_DOC_P_F20_MM/20200517_General_012_DOC_P_F20_MM_045_3764.jpg\n",
            "/content/drive/MyDrive/Colab Notebooks/공부용/golf/2020-02-097.스포츠사람동작(골프)_sample/원천데이터/Association/Female/Putting/20200517_General_012_DOC_P_F20_MM/20200517_General_012_DOC_P_F20_MM_045_4164.jpg\n",
            "/content/drive/MyDrive/Colab Notebooks/공부용/golf/2020-02-097.스포츠사람동작(골프)_sample/원천데이터/Association/Female/Putting/20200517_General_012_DOC_P_F20_MM/20200517_General_012_DOC_P_F20_MM_045_4364.jpg\n",
            "/content/drive/MyDrive/Colab Notebooks/공부용/golf/2020-02-097.스포츠사람동작(골프)_sample/원천데이터/Association/Female/Putting/20200517_General_012_DOC_P_F20_MM/20200517_General_012_DOC_P_F20_MM_045_4564.jpg\n",
            "/content/drive/MyDrive/Colab Notebooks/공부용/golf/2020-02-097.스포츠사람동작(골프)_sample/원천데이터/Association/Female/Putting/20200517_General_012_DOC_P_F20_MM/20200517_General_012_DOC_P_F20_MM_045_4764.jpg\n",
            "/content/drive/MyDrive/Colab Notebooks/공부용/golf/2020-02-097.스포츠사람동작(골프)_sample/원천데이터/Association/Female/Putting/20200517_General_012_DOC_P_F20_MM/20200517_General_012_DOC_P_F20_MM_045_4964.jpg\n",
            "/content/drive/MyDrive/Colab Notebooks/공부용/golf/2020-02-097.스포츠사람동작(골프)_sample/원천데이터/Association/Female/Putting/20200517_General_012_DOC_P_F20_MM/20200517_General_012_DOC_P_F20_MM_045_5164.jpg\n",
            "/content/drive/MyDrive/Colab Notebooks/공부용/golf/2020-02-097.스포츠사람동작(골프)_sample/원천데이터/Association/Female/Putting/20200517_General_012_DOC_P_F20_MM/20200517_General_012_DOC_P_F20_MM_045_5364.jpg\n",
            "/content/drive/MyDrive/Colab Notebooks/공부용/golf/2020-02-097.스포츠사람동작(골프)_sample/원천데이터/Association/Female/Putting/20200517_General_012_DOC_P_F20_MM/20200517_General_012_DOC_P_F20_MM_045_5564.jpg\n",
            "/content/drive/MyDrive/Colab Notebooks/공부용/golf/2020-02-097.스포츠사람동작(골프)_sample/원천데이터/Association/Female/Putting/20200517_General_012_DOC_P_F20_MM/20200517_General_012_DOC_P_F20_MM_045_5764.jpg\n",
            "/content/drive/MyDrive/Colab Notebooks/공부용/golf/2020-02-097.스포츠사람동작(골프)_sample/원천데이터/Association/Female/Putting/20200517_General_012_DOC_P_F20_MM/20200517_General_012_DOC_P_F20_MM_045_5964.jpg\n",
            "/content/drive/MyDrive/Colab Notebooks/공부용/golf/2020-02-097.스포츠사람동작(골프)_sample/원천데이터/Association/Female/Putting/20200517_General_012_DOC_P_F20_MM/20200517_General_012_DOC_P_F20_MM_045_6164.jpg\n",
            "/content/drive/MyDrive/Colab Notebooks/공부용/golf/2020-02-097.스포츠사람동작(골프)_sample/원천데이터/Association/Female/Putting/20200517_General_012_DOC_P_F20_MM/20200517_General_012_DOC_P_F20_MM_045_6364.jpg\n",
            "/content/drive/MyDrive/Colab Notebooks/공부용/golf/2020-02-097.스포츠사람동작(골프)_sample/원천데이터/Association/Female/Putting/20200517_General_012_DOC_P_F20_MM/20200517_General_012_DOC_P_F20_MM_045_6564.jpg\n",
            "/content/drive/MyDrive/Colab Notebooks/공부용/golf/2020-02-097.스포츠사람동작(골프)_sample/원천데이터/Association/Female/Putting/20200517_General_012_DOC_P_F20_MM/20200517_General_012_DOC_P_F20_MM_045_6764.jpg\n",
            "/content/drive/MyDrive/Colab Notebooks/공부용/golf/2020-02-097.스포츠사람동작(골프)_sample/원천데이터/Association/Female/Putting/20200517_General_012_DOC_P_F20_MM/20200517_General_012_DOC_P_F20_MM_045_6964.jpg\n",
            "/content/drive/MyDrive/Colab Notebooks/공부용/golf/2020-02-097.스포츠사람동작(골프)_sample/원천데이터/Association/Female/Putting/20200517_General_012_DOC_P_F20_MM/20200517_General_012_DOC_P_F20_MM_046_0187.jpg\n",
            "/content/drive/MyDrive/Colab Notebooks/공부용/golf/2020-02-097.스포츠사람동작(골프)_sample/원천데이터/Association/Female/Putting/20200517_General_012_DOC_P_F20_MM/20200517_General_012_DOC_P_F20_MM_046_0387.jpg\n",
            "/content/drive/MyDrive/Colab Notebooks/공부용/golf/2020-02-097.스포츠사람동작(골프)_sample/원천데이터/Association/Female/Putting/20200517_General_012_DOC_P_F20_MM/20200517_General_012_DOC_P_F20_MM_046_0587.jpg\n",
            "/content/drive/MyDrive/Colab Notebooks/공부용/golf/2020-02-097.스포츠사람동작(골프)_sample/원천데이터/Association/Female/Putting/20200517_General_012_DOC_P_F20_MM/20200517_General_012_DOC_P_F20_MM_046_0787.jpg\n",
            "/content/drive/MyDrive/Colab Notebooks/공부용/golf/2020-02-097.스포츠사람동작(골프)_sample/원천데이터/Association/Female/Putting/20200517_General_012_DOC_P_F20_MM/20200517_General_012_DOC_P_F20_MM_046_0987.jpg\n",
            "/content/drive/MyDrive/Colab Notebooks/공부용/golf/2020-02-097.스포츠사람동작(골프)_sample/원천데이터/Association/Female/Putting/20200517_General_012_DOC_P_F20_MM/20200517_General_012_DOC_P_F20_MM_046_1187.jpg\n",
            "/content/drive/MyDrive/Colab Notebooks/공부용/golf/2020-02-097.스포츠사람동작(골프)_sample/원천데이터/Association/Female/Putting/20200517_General_012_DOC_P_F20_MM/20200517_General_012_DOC_P_F20_MM_046_1387.jpg\n",
            "/content/drive/MyDrive/Colab Notebooks/공부용/golf/2020-02-097.스포츠사람동작(골프)_sample/원천데이터/Association/Female/Putting/20200517_General_012_DOC_P_F20_MM/20200517_General_012_DOC_P_F20_MM_046_1987.jpg\n",
            "/content/drive/MyDrive/Colab Notebooks/공부용/golf/2020-02-097.스포츠사람동작(골프)_sample/원천데이터/Association/Female/Putting/20200517_General_012_DOC_P_F20_MM/20200517_General_012_DOC_P_F20_MM_046_2187.jpg\n",
            "/content/drive/MyDrive/Colab Notebooks/공부용/golf/2020-02-097.스포츠사람동작(골프)_sample/원천데이터/Association/Female/Putting/20200517_General_012_DOC_P_F20_MM/20200517_General_012_DOC_P_F20_MM_046_2387.jpg\n",
            "/content/drive/MyDrive/Colab Notebooks/공부용/golf/2020-02-097.스포츠사람동작(골프)_sample/원천데이터/Association/Female/Putting/20200517_General_012_DOC_P_F20_MM/20200517_General_012_DOC_P_F20_MM_046_2587.jpg\n",
            "/content/drive/MyDrive/Colab Notebooks/공부용/golf/2020-02-097.스포츠사람동작(골프)_sample/원천데이터/Association/Female/Putting/20200517_General_012_DOC_P_F20_MM/20200517_General_012_DOC_P_F20_MM_046_2787.jpg\n",
            "/content/drive/MyDrive/Colab Notebooks/공부용/golf/2020-02-097.스포츠사람동작(골프)_sample/원천데이터/Association/Female/Putting/20200517_General_012_DOC_P_F20_MM/20200517_General_012_DOC_P_F20_MM_046_2987.jpg\n",
            "/content/drive/MyDrive/Colab Notebooks/공부용/golf/2020-02-097.스포츠사람동작(골프)_sample/원천데이터/Association/Female/Putting/20200517_General_012_DOC_P_F20_MM/20200517_General_012_DOC_P_F20_MM_046_3187.jpg\n",
            "/content/drive/MyDrive/Colab Notebooks/공부용/golf/2020-02-097.스포츠사람동작(골프)_sample/원천데이터/Association/Female/Putting/20200517_General_012_DOC_P_F20_MM/20200517_General_012_DOC_P_F20_MM_046_3387.jpg\n",
            "/content/drive/MyDrive/Colab Notebooks/공부용/golf/2020-02-097.스포츠사람동작(골프)_sample/원천데이터/Association/Female/Putting/20200517_General_012_DOC_P_F20_MM/20200517_General_012_DOC_P_F20_MM_046_3587.jpg\n",
            "/content/drive/MyDrive/Colab Notebooks/공부용/golf/2020-02-097.스포츠사람동작(골프)_sample/원천데이터/Association/Female/Putting/20200517_General_012_DOC_P_F20_MM/20200517_General_012_DOC_P_F20_MM_046_3787.jpg\n",
            "/content/drive/MyDrive/Colab Notebooks/공부용/golf/2020-02-097.스포츠사람동작(골프)_sample/원천데이터/Association/Female/Putting/20200517_General_012_DOC_P_F20_MM/20200517_General_012_DOC_P_F20_MM_046_3987.jpg\n",
            "/content/drive/MyDrive/Colab Notebooks/공부용/golf/2020-02-097.스포츠사람동작(골프)_sample/원천데이터/Association/Female/Putting/20200517_General_012_DOC_P_F20_MM/20200517_General_012_DOC_P_F20_MM_046_4187.jpg\n",
            "/content/drive/MyDrive/Colab Notebooks/공부용/golf/2020-02-097.스포츠사람동작(골프)_sample/원천데이터/Association/Female/Putting/20200517_General_012_DOC_P_F20_MM/20200517_General_012_DOC_P_F20_MM_046_4387.jpg\n",
            "/content/drive/MyDrive/Colab Notebooks/공부용/golf/2020-02-097.스포츠사람동작(골프)_sample/원천데이터/Association/Female/Putting/20200517_General_012_DOC_P_F20_MM/20200517_General_012_DOC_P_F20_MM_046_4587.jpg\n",
            "/content/drive/MyDrive/Colab Notebooks/공부용/golf/2020-02-097.스포츠사람동작(골프)_sample/원천데이터/Association/Female/Putting/20200517_General_012_DOC_P_F20_MM/20200517_General_012_DOC_P_F20_MM_046_4787.jpg\n",
            "/content/drive/MyDrive/Colab Notebooks/공부용/golf/2020-02-097.스포츠사람동작(골프)_sample/원천데이터/Association/Female/Putting/20200517_General_012_DOC_P_F20_MM/20200517_General_012_DOC_P_F20_MM_046_4987.jpg\n",
            "/content/drive/MyDrive/Colab Notebooks/공부용/golf/2020-02-097.스포츠사람동작(골프)_sample/원천데이터/Association/Female/Putting/20200517_General_012_DOC_P_F20_MM/20200517_General_012_DOC_P_F20_MM_046_5587.jpg\n",
            "/content/drive/MyDrive/Colab Notebooks/공부용/golf/2020-02-097.스포츠사람동작(골프)_sample/원천데이터/Association/Female/Putting/20200517_General_012_DOC_P_F20_MM/20200517_General_012_DOC_P_F20_MM_046_5787.jpg\n",
            "/content/drive/MyDrive/Colab Notebooks/공부용/golf/2020-02-097.스포츠사람동작(골프)_sample/원천데이터/Association/Female/Putting/20200517_General_012_DOC_P_F20_MM/20200517_General_012_DOC_P_F20_MM_047_0018.jpg\n",
            "/content/drive/MyDrive/Colab Notebooks/공부용/golf/2020-02-097.스포츠사람동작(골프)_sample/원천데이터/Association/Female/Putting/20200517_General_012_DOC_P_F20_MM/20200517_General_012_DOC_P_F20_MM_047_0218.jpg\n",
            "/content/drive/MyDrive/Colab Notebooks/공부용/golf/2020-02-097.스포츠사람동작(골프)_sample/원천데이터/Association/Female/Putting/20200517_General_012_DOC_P_F20_MM/20200517_General_012_DOC_P_F20_MM_047_0418.jpg\n",
            "/content/drive/MyDrive/Colab Notebooks/공부용/golf/2020-02-097.스포츠사람동작(골프)_sample/원천데이터/Association/Female/Putting/20200517_General_012_DOC_P_F20_MM/20200517_General_012_DOC_P_F20_MM_047_0618.jpg\n",
            "/content/drive/MyDrive/Colab Notebooks/공부용/golf/2020-02-097.스포츠사람동작(골프)_sample/원천데이터/Association/Female/Putting/20200517_General_012_DOC_P_F20_MM/20200517_General_012_DOC_P_F20_MM_047_0818.jpg\n",
            "/content/drive/MyDrive/Colab Notebooks/공부용/golf/2020-02-097.스포츠사람동작(골프)_sample/원천데이터/Association/Female/Putting/20200517_General_012_DOC_P_F20_MM/20200517_General_012_DOC_P_F20_MM_047_1018.jpg\n",
            "/content/drive/MyDrive/Colab Notebooks/공부용/golf/2020-02-097.스포츠사람동작(골프)_sample/원천데이터/Association/Female/Putting/20200517_General_012_DOC_P_F20_MM/20200517_General_012_DOC_P_F20_MM_047_1218.jpg\n",
            "/content/drive/MyDrive/Colab Notebooks/공부용/golf/2020-02-097.스포츠사람동작(골프)_sample/원천데이터/Association/Female/Putting/20200517_General_012_DOC_P_F20_MM/20200517_General_012_DOC_P_F20_MM_047_1418.jpg\n",
            "/content/drive/MyDrive/Colab Notebooks/공부용/golf/2020-02-097.스포츠사람동작(골프)_sample/원천데이터/Association/Female/Putting/20200517_General_012_DOC_P_F20_MM/20200517_General_012_DOC_P_F20_MM_047_1618.jpg\n",
            "/content/drive/MyDrive/Colab Notebooks/공부용/golf/2020-02-097.스포츠사람동작(골프)_sample/원천데이터/Association/Female/Putting/20200517_General_012_DOC_P_F20_MM/20200517_General_012_DOC_P_F20_MM_047_1818.jpg\n",
            "/content/drive/MyDrive/Colab Notebooks/공부용/golf/2020-02-097.스포츠사람동작(골프)_sample/원천데이터/Association/Female/Putting/20200517_General_012_DOC_P_F20_MM/20200517_General_012_DOC_P_F20_MM_047_2018.jpg\n",
            "/content/drive/MyDrive/Colab Notebooks/공부용/golf/2020-02-097.스포츠사람동작(골프)_sample/원천데이터/Association/Female/Putting/20200517_General_012_DOC_P_F20_MM/20200517_General_012_DOC_P_F20_MM_048_0148.jpg\n",
            "/content/drive/MyDrive/Colab Notebooks/공부용/golf/2020-02-097.스포츠사람동작(골프)_sample/원천데이터/Association/Female/Putting/20200517_General_012_DOC_P_F20_MM/20200517_General_012_DOC_P_F20_MM_048_0348.jpg\n",
            "/content/drive/MyDrive/Colab Notebooks/공부용/golf/2020-02-097.스포츠사람동작(골프)_sample/원천데이터/Association/Female/Putting/20200517_General_012_DOC_P_F20_MM/20200517_General_012_DOC_P_F20_MM_048_0548.jpg\n",
            "/content/drive/MyDrive/Colab Notebooks/공부용/golf/2020-02-097.스포츠사람동작(골프)_sample/원천데이터/Association/Female/Putting/20200517_General_012_DOC_P_F20_MM/20200517_General_012_DOC_P_F20_MM_048_0748.jpg\n",
            "/content/drive/MyDrive/Colab Notebooks/공부용/golf/2020-02-097.스포츠사람동작(골프)_sample/원천데이터/Association/Female/Putting/20200517_General_012_DOC_P_F20_MM/20200517_General_012_DOC_P_F20_MM_048_0948.jpg\n",
            "/content/drive/MyDrive/Colab Notebooks/공부용/golf/2020-02-097.스포츠사람동작(골프)_sample/원천데이터/Association/Female/Putting/20200517_General_012_DOC_P_F20_MM/20200517_General_012_DOC_P_F20_MM_048_1148.jpg\n",
            "/content/drive/MyDrive/Colab Notebooks/공부용/golf/2020-02-097.스포츠사람동작(골프)_sample/원천데이터/Association/Female/Putting/20200517_General_012_DOC_P_F20_MM/20200517_General_012_DOC_P_F20_MM_048_1348.jpg\n",
            "/content/drive/MyDrive/Colab Notebooks/공부용/golf/2020-02-097.스포츠사람동작(골프)_sample/원천데이터/Association/Female/Putting/20200517_General_012_DOC_P_F20_MM/20200517_General_012_DOC_P_F20_MM_048_1548.jpg\n",
            "/content/drive/MyDrive/Colab Notebooks/공부용/golf/2020-02-097.스포츠사람동작(골프)_sample/원천데이터/Association/Female/Putting/20200517_General_012_DOC_P_F20_MM/20200517_General_012_DOC_P_F20_MM_048_1748.jpg\n",
            "/content/drive/MyDrive/Colab Notebooks/공부용/golf/2020-02-097.스포츠사람동작(골프)_sample/원천데이터/Association/Female/Putting/20200517_General_012_DOC_P_F20_MM/20200517_General_012_DOC_P_F20_MM_048_1948.jpg\n",
            "/content/drive/MyDrive/Colab Notebooks/공부용/golf/2020-02-097.스포츠사람동작(골프)_sample/원천데이터/Association/Female/Putting/20200517_General_012_DOC_P_F20_MM/20200517_General_012_DOC_P_F20_MM_048_2148.jpg\n",
            "/content/drive/MyDrive/Colab Notebooks/공부용/golf/2020-02-097.스포츠사람동작(골프)_sample/원천데이터/Association/Female/Putting/20200517_General_012_DOC_P_F20_MM/20200517_General_012_DOC_P_F20_MM_048_2348.jpg\n",
            "/content/drive/MyDrive/Colab Notebooks/공부용/golf/2020-02-097.스포츠사람동작(골프)_sample/원천데이터/Association/Female/Putting/20200517_General_012_DOC_P_F20_MM/20200517_General_012_DOC_P_F20_MM_048_2548.jpg\n",
            "/content/drive/MyDrive/Colab Notebooks/공부용/golf/2020-02-097.스포츠사람동작(골프)_sample/원천데이터/Association/Female/Putting/20200517_General_012_DOC_P_F20_MM/20200517_General_012_DOC_P_F20_MM_048_2948.jpg\n",
            "/content/drive/MyDrive/Colab Notebooks/공부용/golf/2020-02-097.스포츠사람동작(골프)_sample/원천데이터/Association/Female/Putting/20200517_General_012_DOC_P_F20_MM/20200517_General_012_DOC_P_F20_MM_048_3148.jpg\n",
            "/content/drive/MyDrive/Colab Notebooks/공부용/golf/2020-02-097.스포츠사람동작(골프)_sample/원천데이터/Association/Female/Putting/20200517_General_012_DOC_P_F20_MM/20200517_General_012_DOC_P_F20_MM_048_3348.jpg\n",
            "/content/drive/MyDrive/Colab Notebooks/공부용/golf/2020-02-097.스포츠사람동작(골프)_sample/원천데이터/Association/Female/Putting/20200517_General_012_DOC_P_F20_MM/20200517_General_012_DOC_P_F20_MM_048_3548.jpg\n",
            "/content/drive/MyDrive/Colab Notebooks/공부용/golf/2020-02-097.스포츠사람동작(골프)_sample/원천데이터/Association/Female/Putting/20200517_General_012_DOC_P_F20_MM/20200517_General_012_DOC_P_F20_MM_049_0151.jpg\n",
            "/content/drive/MyDrive/Colab Notebooks/공부용/golf/2020-02-097.스포츠사람동작(골프)_sample/원천데이터/Association/Female/Putting/20200517_General_012_DOC_P_F20_MM/20200517_General_012_DOC_P_F20_MM_049_0551.jpg\n",
            "/content/drive/MyDrive/Colab Notebooks/공부용/golf/2020-02-097.스포츠사람동작(골프)_sample/원천데이터/Association/Female/Putting/20200517_General_012_DOC_P_F20_MM/20200517_General_012_DOC_P_F20_MM_049_0751.jpg\n",
            "/content/drive/MyDrive/Colab Notebooks/공부용/golf/2020-02-097.스포츠사람동작(골프)_sample/원천데이터/Association/Female/Putting/20200517_General_012_DOC_P_F20_MM/20200517_General_012_DOC_P_F20_MM_281_0095.jpg\n",
            "/content/drive/MyDrive/Colab Notebooks/공부용/golf/2020-02-097.스포츠사람동작(골프)_sample/원천데이터/Association/Female/Putting/20200517_General_012_DOC_P_F20_MM/20200517_General_012_DOC_P_F20_MM_281_0295.jpg\n",
            "/content/drive/MyDrive/Colab Notebooks/공부용/golf/2020-02-097.스포츠사람동작(골프)_sample/원천데이터/Association/Female/Putting/20200517_General_012_DOC_P_F20_MM/20200517_General_012_DOC_P_F20_MM_281_0695.jpg\n",
            "/content/drive/MyDrive/Colab Notebooks/공부용/golf/2020-02-097.스포츠사람동작(골프)_sample/원천데이터/Association/Female/Putting/20200517_General_012_DOC_P_F20_MM/20200517_General_012_DOC_P_F20_MM_281_0895.jpg\n",
            "/content/drive/MyDrive/Colab Notebooks/공부용/golf/2020-02-097.스포츠사람동작(골프)_sample/원천데이터/Association/Female/Swing/20201014_General_003_DOS_P_F20_MM/20201014_General_003_DOS_P_F20_MM_026_0202.jpg\n",
            "/content/drive/MyDrive/Colab Notebooks/공부용/golf/2020-02-097.스포츠사람동작(골프)_sample/원천데이터/Association/Female/Swing/20201014_General_003_DOS_P_F20_MM/20201014_General_003_DOS_P_F20_MM_026_0402.jpg\n",
            "/content/drive/MyDrive/Colab Notebooks/공부용/golf/2020-02-097.스포츠사람동작(골프)_sample/원천데이터/Association/Female/Swing/20201014_General_003_DOS_P_F20_MM/20201014_General_003_DOS_P_F20_MM_026_0602.jpg\n",
            "/content/drive/MyDrive/Colab Notebooks/공부용/golf/2020-02-097.스포츠사람동작(골프)_sample/원천데이터/Association/Female/Swing/20201014_General_003_DOS_P_F20_MM/20201014_General_003_DOS_P_F20_MM_026_1002.jpg\n",
            "/content/drive/MyDrive/Colab Notebooks/공부용/golf/2020-02-097.스포츠사람동작(골프)_sample/원천데이터/Association/Female/Swing/20201014_General_003_DOS_P_F20_MM/20201014_General_003_DOS_P_F20_MM_026_1202.jpg\n",
            "/content/drive/MyDrive/Colab Notebooks/공부용/golf/2020-02-097.스포츠사람동작(골프)_sample/원천데이터/Association/Female/Swing/20201014_General_003_DOS_P_F20_MM/20201014_General_003_DOS_P_F20_MM_026_1402.jpg\n",
            "/content/drive/MyDrive/Colab Notebooks/공부용/golf/2020-02-097.스포츠사람동작(골프)_sample/원천데이터/Association/Female/Swing/20201014_General_003_DOS_P_F20_MM/20201014_General_003_DOS_P_F20_MM_026_1802.jpg\n",
            "/content/drive/MyDrive/Colab Notebooks/공부용/golf/2020-02-097.스포츠사람동작(골프)_sample/원천데이터/Association/Female/Swing/20201014_General_003_DOS_P_F20_MM/20201014_General_003_DOS_P_F20_MM_026_2002.jpg\n",
            "/content/drive/MyDrive/Colab Notebooks/공부용/golf/2020-02-097.스포츠사람동작(골프)_sample/원천데이터/Association/Female/Swing/20201014_General_003_DOS_P_F20_MM/20201014_General_003_DOS_P_F20_MM_026_2202.jpg\n",
            "/content/drive/MyDrive/Colab Notebooks/공부용/golf/2020-02-097.스포츠사람동작(골프)_sample/원천데이터/Association/Female/Swing/20201014_General_003_DOS_P_F20_MM/20201014_General_003_DOS_P_F20_MM_026_2602.jpg\n",
            "/content/drive/MyDrive/Colab Notebooks/공부용/golf/2020-02-097.스포츠사람동작(골프)_sample/원천데이터/Association/Female/Swing/20201014_General_003_DOS_P_F20_MM/20201014_General_003_DOS_P_F20_MM_026_2802.jpg\n",
            "/content/drive/MyDrive/Colab Notebooks/공부용/golf/2020-02-097.스포츠사람동작(골프)_sample/원천데이터/Association/Female/Swing/20201014_General_003_DOS_P_F20_MM/20201014_General_003_DOS_P_F20_MM_026_3002.jpg\n",
            "/content/drive/MyDrive/Colab Notebooks/공부용/golf/2020-02-097.스포츠사람동작(골프)_sample/원천데이터/Association/Female/Swing/20201014_General_003_DOS_P_F20_MM/20201014_General_003_DOS_P_F20_MM_026_3202.jpg\n",
            "/content/drive/MyDrive/Colab Notebooks/공부용/golf/2020-02-097.스포츠사람동작(골프)_sample/원천데이터/Association/Female/Swing/20201014_General_003_DOS_P_F20_MM/20201014_General_003_DOS_P_F20_MM_026_3402.jpg\n",
            "/content/drive/MyDrive/Colab Notebooks/공부용/golf/2020-02-097.스포츠사람동작(골프)_sample/원천데이터/Association/Female/Swing/20201014_General_003_DOS_P_F20_MM/20201014_General_003_DOS_P_F20_MM_026_3602.jpg\n",
            "/content/drive/MyDrive/Colab Notebooks/공부용/golf/2020-02-097.스포츠사람동작(골프)_sample/원천데이터/Association/Female/Swing/20201014_General_003_DOS_P_F20_MM/20201014_General_003_DOS_P_F20_MM_026_3802.jpg\n",
            "/content/drive/MyDrive/Colab Notebooks/공부용/golf/2020-02-097.스포츠사람동작(골프)_sample/원천데이터/Association/Female/Swing/20201014_General_003_DOS_P_F20_MM/20201014_General_003_DOS_P_F20_MM_026_4002.jpg\n",
            "/content/drive/MyDrive/Colab Notebooks/공부용/golf/2020-02-097.스포츠사람동작(골프)_sample/원천데이터/Association/Female/Swing/20201014_General_003_DOS_P_F20_MM/20201014_General_003_DOS_P_F20_MM_026_4202.jpg\n",
            "/content/drive/MyDrive/Colab Notebooks/공부용/golf/2020-02-097.스포츠사람동작(골프)_sample/원천데이터/Association/Female/Swing/20201014_General_003_DOS_P_F20_MM/20201014_General_003_DOS_P_F20_MM_026_4402.jpg\n",
            "/content/drive/MyDrive/Colab Notebooks/공부용/golf/2020-02-097.스포츠사람동작(골프)_sample/원천데이터/Association/Female/Swing/20201014_General_003_DOS_P_F20_MM/20201014_General_003_DOS_P_F20_MM_026_4802.jpg\n",
            "/content/drive/MyDrive/Colab Notebooks/공부용/golf/2020-02-097.스포츠사람동작(골프)_sample/원천데이터/Association/Female/Swing/20201014_General_003_DOS_P_F20_MM/20201014_General_003_DOS_P_F20_MM_030_0432.jpg\n",
            "/content/drive/MyDrive/Colab Notebooks/공부용/golf/2020-02-097.스포츠사람동작(골프)_sample/원천데이터/Association/Female/Swing/20201014_General_003_DOS_P_F20_MM/20201014_General_003_DOS_P_F20_MM_030_0632.jpg\n",
            "/content/drive/MyDrive/Colab Notebooks/공부용/golf/2020-02-097.스포츠사람동작(골프)_sample/원천데이터/Association/Female/Swing/20201014_General_003_DOS_P_F20_MM/20201014_General_003_DOS_P_F20_MM_030_1032.jpg\n",
            "/content/drive/MyDrive/Colab Notebooks/공부용/golf/2020-02-097.스포츠사람동작(골프)_sample/원천데이터/Association/Female/Swing/20201014_General_003_DOS_P_F20_MM/20201014_General_003_DOS_P_F20_MM_030_1432.jpg\n",
            "/content/drive/MyDrive/Colab Notebooks/공부용/golf/2020-02-097.스포츠사람동작(골프)_sample/원천데이터/Association/Female/Swing/20201014_General_003_DOS_P_F20_MM/20201014_General_003_DOS_P_F20_MM_030_1632.jpg\n",
            "/content/drive/MyDrive/Colab Notebooks/공부용/golf/2020-02-097.스포츠사람동작(골프)_sample/원천데이터/Association/Female/Swing/20201014_General_003_DOS_P_F20_MM/20201014_General_003_DOS_P_F20_MM_030_1832.jpg\n",
            "/content/drive/MyDrive/Colab Notebooks/공부용/golf/2020-02-097.스포츠사람동작(골프)_sample/원천데이터/Association/Female/Swing/20201014_General_003_DOS_P_F20_MM/20201014_General_003_DOS_P_F20_MM_030_2032.jpg\n",
            "/content/drive/MyDrive/Colab Notebooks/공부용/golf/2020-02-097.스포츠사람동작(골프)_sample/원천데이터/Association/Female/Swing/20201014_General_003_DOS_P_F20_MM/20201014_General_003_DOS_P_F20_MM_030_2232.jpg\n",
            "/content/drive/MyDrive/Colab Notebooks/공부용/golf/2020-02-097.스포츠사람동작(골프)_sample/원천데이터/Association/Female/Swing/20201014_General_003_DOS_P_F20_MM/20201014_General_003_DOS_P_F20_MM_030_2632.jpg\n",
            "/content/drive/MyDrive/Colab Notebooks/공부용/golf/2020-02-097.스포츠사람동작(골프)_sample/원천데이터/Association/Female/Swing/20201014_General_003_DOS_P_F20_MM/20201014_General_003_DOS_P_F20_MM_030_3032.jpg\n",
            "/content/drive/MyDrive/Colab Notebooks/공부용/golf/2020-02-097.스포츠사람동작(골프)_sample/원천데이터/Association/Female/Swing/20201014_General_003_DOS_P_F20_MM/20201014_General_003_DOS_P_F20_MM_030_3232.jpg\n",
            "/content/drive/MyDrive/Colab Notebooks/공부용/golf/2020-02-097.스포츠사람동작(골프)_sample/원천데이터/Association/Female/Swing/20201014_General_003_DOS_P_F20_MM/20201014_General_003_DOS_P_F20_MM_030_3632.jpg\n",
            "/content/drive/MyDrive/Colab Notebooks/공부용/golf/2020-02-097.스포츠사람동작(골프)_sample/원천데이터/Association/Female/Swing/20201017_General_008_DOS_P_F20_MM/20201017_General_008_DOS_P_F20_MM_002_0164.jpg\n",
            "/content/drive/MyDrive/Colab Notebooks/공부용/golf/2020-02-097.스포츠사람동작(골프)_sample/원천데이터/Association/Female/Swing/20201017_General_008_DOS_P_F20_MM/20201017_General_008_DOS_P_F20_MM_003_0187.jpg\n",
            "/content/drive/MyDrive/Colab Notebooks/공부용/golf/2020-02-097.스포츠사람동작(골프)_sample/원천데이터/Association/Female/Swing/20201017_General_008_DOS_P_F20_MM/20201017_General_008_DOS_P_F20_MM_003_0387.jpg\n",
            "/content/drive/MyDrive/Colab Notebooks/공부용/golf/2020-02-097.스포츠사람동작(골프)_sample/원천데이터/Association/Female/Swing/20201017_General_008_DOS_P_F20_MM/20201017_General_008_DOS_P_F20_MM_003_0787.jpg\n",
            "/content/drive/MyDrive/Colab Notebooks/공부용/golf/2020-02-097.스포츠사람동작(골프)_sample/원천데이터/Association/Female/Swing/20201017_General_008_DOS_P_F20_MM/20201017_General_008_DOS_P_F20_MM_003_0987.jpg\n",
            "/content/drive/MyDrive/Colab Notebooks/공부용/golf/2020-02-097.스포츠사람동작(골프)_sample/원천데이터/Association/Female/Swing/20201017_General_008_DOS_P_F20_MM/20201017_General_008_DOS_P_F20_MM_003_1187.jpg\n",
            "/content/drive/MyDrive/Colab Notebooks/공부용/golf/2020-02-097.스포츠사람동작(골프)_sample/원천데이터/Association/Female/Swing/20201017_General_008_DOS_P_F20_MM/20201017_General_008_DOS_P_F20_MM_003_1387.jpg\n",
            "/content/drive/MyDrive/Colab Notebooks/공부용/golf/2020-02-097.스포츠사람동작(골프)_sample/원천데이터/Association/Female/Swing/20201017_General_008_DOS_P_F20_MM/20201017_General_008_DOS_P_F20_MM_003_1587.jpg\n",
            "/content/drive/MyDrive/Colab Notebooks/공부용/golf/2020-02-097.스포츠사람동작(골프)_sample/원천데이터/Association/Female/Swing/20201017_General_008_DOS_P_F20_MM/20201017_General_008_DOS_P_F20_MM_003_1787.jpg\n",
            "/content/drive/MyDrive/Colab Notebooks/공부용/golf/2020-02-097.스포츠사람동작(골프)_sample/원천데이터/Association/Female/Swing/20201017_General_008_DOS_P_F20_MM/20201017_General_008_DOS_P_F20_MM_003_1987.jpg\n",
            "/content/drive/MyDrive/Colab Notebooks/공부용/golf/2020-02-097.스포츠사람동작(골프)_sample/원천데이터/Association/Female/Swing/20201017_General_008_DOS_P_F20_MM/20201017_General_008_DOS_P_F20_MM_003_2387.jpg\n",
            "/content/drive/MyDrive/Colab Notebooks/공부용/golf/2020-02-097.스포츠사람동작(골프)_sample/원천데이터/Association/Female/Swing/20201017_General_008_DOS_P_F20_MM/20201017_General_008_DOS_P_F20_MM_003_2587.jpg\n",
            "/content/drive/MyDrive/Colab Notebooks/공부용/golf/2020-02-097.스포츠사람동작(골프)_sample/원천데이터/Association/Female/Swing/20201017_General_008_DOS_P_F20_MM/20201017_General_008_DOS_P_F20_MM_003_2787.jpg\n",
            "/content/drive/MyDrive/Colab Notebooks/공부용/golf/2020-02-097.스포츠사람동작(골프)_sample/원천데이터/Association/Female/Swing/20201017_General_008_DOS_P_F20_MM/20201017_General_008_DOS_P_F20_MM_003_2987.jpg\n",
            "/content/drive/MyDrive/Colab Notebooks/공부용/golf/2020-02-097.스포츠사람동작(골프)_sample/원천데이터/Association/Female/Swing/20201017_General_008_DOS_P_F20_MM/20201017_General_008_DOS_P_F20_MM_003_3387.jpg\n",
            "/content/drive/MyDrive/Colab Notebooks/공부용/golf/2020-02-097.스포츠사람동작(골프)_sample/원천데이터/Association/Female/Swing/20201017_General_008_DOS_P_F20_MM/20201017_General_008_DOS_P_F20_MM_003_3587.jpg\n",
            "/content/drive/MyDrive/Colab Notebooks/공부용/golf/2020-02-097.스포츠사람동작(골프)_sample/원천데이터/Association/Female/Swing/20201017_General_008_DOS_P_F20_MM/20201017_General_008_DOS_P_F20_MM_003_3787.jpg\n",
            "/content/drive/MyDrive/Colab Notebooks/공부용/golf/2020-02-097.스포츠사람동작(골프)_sample/원천데이터/Association/Female/Swing/20201017_General_008_DOS_P_F20_MM/20201017_General_008_DOS_P_F20_MM_004_0326.jpg\n",
            "/content/drive/MyDrive/Colab Notebooks/공부용/golf/2020-02-097.스포츠사람동작(골프)_sample/원천데이터/Association/Female/Swing/20201017_General_008_DOS_P_F20_MM/20201017_General_008_DOS_P_F20_MM_004_0526.jpg\n",
            "/content/drive/MyDrive/Colab Notebooks/공부용/golf/2020-02-097.스포츠사람동작(골프)_sample/원천데이터/Association/Female/Swing/20201017_General_008_DOS_P_F20_MM/20201017_General_008_DOS_P_F20_MM_004_0726.jpg\n",
            "/content/drive/MyDrive/Colab Notebooks/공부용/golf/2020-02-097.스포츠사람동작(골프)_sample/원천데이터/Association/Female/Swing/20201017_General_008_DOS_P_F20_MM/20201017_General_008_DOS_P_F20_MM_004_0926.jpg\n"
          ]
        }
      ]
    },
    {
      "cell_type": "markdown",
      "source": [
        "# 테스트"
      ],
      "metadata": {
        "id": "sxMgdQKYl-QQ"
      },
      "id": "sxMgdQKYl-QQ"
    },
    {
      "cell_type": "code",
      "execution_count": null,
      "id": "936676a6",
      "metadata": {
        "id": "936676a6"
      },
      "outputs": [],
      "source": [
        "import pandas as pd\n",
        "total_df = pd.read_csv(Base_Path+'/total_Swing.csv')\n",
        "total_df = total_df.fillna('0')\n",
        "image_list = total_df['filename'].tolist()\n",
        "image_path = total_df['image_path'].tolist()\n",
        "copy_path = '/content/drive/MyDrive/Colab Notebooks/공부용/golf'+'/'+miniset_name+'/images'\n",
        "\n",
        "ERR_list = []\n",
        "\n",
        "for idx in range(len(total_df)):\n",
        "    image_name = total_df.iloc[idx].filename\n",
        "    image_path = total_df.iloc[idx].image_path\n",
        "    person = total_df.iloc[idx].person\n",
        "    club = total_df.iloc[idx].club\n",
        "    ball = total_df.iloc[idx].ball\n",
        "\n",
        "    try:\n",
        "        #!cp  image_path copy_path+'/'+image_name\n",
        "        shutil.copyfile(image_path, copy_path+'/'+image_name)\n",
        "    except:\n",
        "        ERR_list.append(image_path)"
      ]
    }
  ],
  "metadata": {
    "kernelspec": {
      "display_name": "Python 3",
      "language": "python",
      "name": "python3"
    },
    "language_info": {
      "codemirror_mode": {
        "name": "ipython",
        "version": 3
      },
      "file_extension": ".py",
      "mimetype": "text/x-python",
      "name": "python",
      "nbconvert_exporter": "python",
      "pygments_lexer": "ipython3",
      "version": "3.8.8"
    },
    "colab": {
      "name": "Yolo5_Tutorial_Golf_Miniset_setting.ipynb",
      "provenance": [],
      "collapsed_sections": [
        "23867214",
        "7e250a9f"
      ],
      "include_colab_link": true
    }
  },
  "nbformat": 4,
  "nbformat_minor": 5
}